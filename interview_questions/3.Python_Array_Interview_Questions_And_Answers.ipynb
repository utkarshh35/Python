{
  "nbformat": 4,
  "nbformat_minor": 0,
  "metadata": {
    "colab": {
      "provenance": []
    },
    "kernelspec": {
      "name": "python3",
      "display_name": "Python 3"
    },
    "language_info": {
      "name": "python"
    }
  },
  "cells": [
    {
      "cell_type": "markdown",
      "source": [
        "## Points to remember\n",
        "\n",
        "- Codes asked are relatively easier in comparison to SDE roles\n",
        "- Pythonic syntax is preferred in most companies\n",
        "- Focus is on optimized code\n",
        "- Start with the simplest solution and then improve\n",
        "- A lot of questions are repeated so mugging up the approaches help\n",
        "- Build intuition using Python Tutor"
      ],
      "metadata": {
        "id": "XBB7HvgrkJrH"
      }
    },
    {
      "cell_type": "code",
      "source": [
        "# 1. Find the kth largest/smallest item from a list\n",
        "\n",
        "L = [12,23,1,4,56,34,22,3]\n",
        "k=3\n",
        "\n",
        "L.sort(reverse=True)\n",
        "print(L[k-1])"
      ],
      "metadata": {
        "id": "6LoepvqCjyrh"
      },
      "execution_count": null,
      "outputs": []
    },
    {
      "cell_type": "code",
      "source": [
        "# 2. Check if an array is sorted\n",
        "L = [1,2,3,4,5]\n",
        "\n",
        "flag = True\n",
        "\n",
        "for i in range(0,len(L)-1):\n",
        "  if L[i] > L[i+1]:\n",
        "    flag = False\n",
        "\n",
        "if flag:\n",
        "  print('sorted')\n",
        "else:\n",
        "  print('not sorted')"
      ],
      "metadata": {
        "id": "0DHmb3Juj1ag"
      },
      "execution_count": null,
      "outputs": []
    },
    {
      "cell_type": "code",
      "source": [
        "# 3. Find Min/Max in a given array\n",
        "\n",
        "L = [21,1,34,23,54,11,10]\n",
        "\n",
        "max_val = L[0]\n",
        "\n",
        "for i in L:\n",
        "  if i > max_val:\n",
        "    max_val = i\n",
        "\n",
        "print(max_val)"
      ],
      "metadata": {
        "id": "cMshYMVEj1qN"
      },
      "execution_count": null,
      "outputs": []
    },
    {
      "cell_type": "code",
      "source": [
        "# 4. Find the first element to occur k times in an array\n",
        "\n",
        "L = [1,1,2,3,4,4,5,5]\n",
        "\n",
        "k = 2\n",
        "\n",
        "d = {}\n",
        "\n",
        "for i in L:\n",
        "  if i in d:\n",
        "    d[i] = d[i] + 1\n",
        "  else:\n",
        "    d[i] = 1\n",
        "\n",
        "for i in d:\n",
        "  if d[i] == k:\n",
        "    print(i)\n",
        "    break"
      ],
      "metadata": {
        "id": "mATzlA2ij1wK"
      },
      "execution_count": null,
      "outputs": []
    },
    {
      "cell_type": "code",
      "source": [
        "# 5. Find duplicates in an array\n",
        "\n",
        "L = [1,1,2,3,4,4,5,5]\n",
        "\n",
        "dic = {}\n",
        "\n",
        "for i in range(len(L)):\n",
        "  if L[i] in dic:\n",
        "    dic[L[i]] += 1\n",
        "\n",
        "  else:\n",
        "    dic[L[i]] = 1\n",
        "\n",
        "for i in dic:\n",
        "  if dic[i] > 1:\n",
        "    print(i)"
      ],
      "metadata": {
        "colab": {
          "base_uri": "https://localhost:8080/"
        },
        "id": "AvL_RKGVEIDd",
        "outputId": "88a21b1c-a1d0-4731-dc22-2b2dfa8bd3a1"
      },
      "execution_count": null,
      "outputs": [
        {
          "output_type": "stream",
          "name": "stdout",
          "text": [
            "1\n",
            "4\n",
            "5\n"
          ]
        }
      ]
    },
    {
      "cell_type": "code",
      "source": [
        "# 6. Rotate array to left d items\n",
        "\n",
        "# naive method:\n",
        "L = [1,2,3,4,5]\n",
        "rotate = 2\n",
        "\n",
        "for i in range(rotate):\n",
        "  temp = L[0]\n",
        "  for j in range(0,len(L)-1):\n",
        "    L[j] = L[j+1]\n",
        "  L[len(L)-1] = temp\n",
        "\n",
        "print(L)\n",
        "\n",
        "# efficient method:\n",
        "L = [1,2,3,4,5]\n",
        "\n",
        "rotate = 4\n",
        "\n",
        "L[rotate:]+L[0:rotate]"
      ],
      "metadata": {
        "id": "yRaZ6luxi6rc"
      },
      "execution_count": null,
      "outputs": []
    },
    {
      "cell_type": "code",
      "source": [
        "# 7. Find the intersection of 2 sorted arrays\n",
        "\n",
        "a = [1,2,3,4,5,8]\n",
        "b = [3,6,7,8]\n",
        "\n",
        "i=j=0\n",
        "\n",
        "while i<len(a) and j<len(b):\n",
        "  if a[i] == b[j]:\n",
        "    print(a[i])\n",
        "    i+=1\n",
        "    j+=1\n",
        "\n",
        "  elif a[i] > b[j]:\n",
        "    j+=1\n",
        "  else:\n",
        "    i+=1"
      ],
      "metadata": {
        "id": "hXmppM1QiKeL"
      },
      "execution_count": null,
      "outputs": []
    },
    {
      "cell_type": "code",
      "source": [
        "# 8. Find continous subarray with a given sum(given non-negative numbers)\n",
        "# return the starting and ending index of the subarray\n",
        "# return 1st subarray in case of multiple\n",
        "\n",
        "L = [1, 22, 13, 7, 9, 11, 10]\n",
        "S = 16\n",
        "\n",
        "dic = {}\n",
        "\n",
        "for i in range(len(L)):\n",
        "  sub_array = []\n",
        "  for j in range(i,len(L)):\n",
        "    sub_array.append(L[j])\n",
        "    dic[sum(sub_array)] = sub_array[:]\n",
        "\n",
        "print(dic[16])\n",
        "\n",
        "for k in dic.keys():\n",
        "  if k == S:\n",
        "    print(dic[k])\n",
        "\n",
        "# Efficient method:\n",
        "L = [1,22,13,7,9,11,10]\n",
        "\n",
        "S = 35\n",
        "\n",
        "d = {}\n",
        "curr_sum = 0\n",
        "\n",
        "for i in range(len(L)):\n",
        "  curr_sum = curr_sum + L[i]\n",
        "\n",
        "  if (curr_sum - S) in d:\n",
        "    print(d[curr_sum - S]+1, i)\n",
        "    break\n",
        "\n",
        "  d[curr_sum] = i"
      ],
      "metadata": {
        "id": "EYHYyAB9jUR0"
      },
      "execution_count": null,
      "outputs": []
    },
    {
      "cell_type": "code",
      "source": [
        "# 9. find the element with left side smaller/right side greater in an array\n",
        "\n",
        "# Naive method:\n",
        "L = [3,1,2,5,8,7,9]\n",
        "\n",
        "for i in range(1,len(L)-1):\n",
        "  flag = True\n",
        "  for j in range(0,i):\n",
        "    if L[j] > L[i]:\n",
        "      flag = False\n",
        "\n",
        "  for k in range(i+1,len(L)):\n",
        "    if L[k] < L[i]:\n",
        "      flag = False\n",
        "\n",
        "  if flag:\n",
        "    print(L[i])\n",
        "\n",
        "# Short but not efficient method:\n",
        "for i in range(1,len(L)-1):\n",
        "  flag = True\n",
        "  if max(L[:i]) < L[i] < min(L[i+1:]):\n",
        "    print(L[i])\n",
        "\n",
        "# efficient method:\n",
        "max_arr = []\n",
        "min_arr = []\n",
        "\n",
        "max_val = L[0]\n",
        "min_val = L[-1]\n",
        "\n",
        "for i in L:\n",
        "  if i > max_val:\n",
        "    max_val = i\n",
        "  max_arr.append(max_val)\n",
        "\n",
        "for i in range(len(L)-1,-1,-1):\n",
        "  if L[i] < min_val:\n",
        "    min_val = L[i]\n",
        "  min_arr.insert(0,min_val)\n",
        "\n",
        "for i in range(1,len(L)-1):\n",
        "  if max_arr[i-1] < L[i] < min_arr[i+1]:\n",
        "    print(L[i])"
      ],
      "metadata": {
        "id": "ZJCwdjzHjoCR"
      },
      "execution_count": null,
      "outputs": []
    },
    {
      "cell_type": "code",
      "source": [
        "# 10 maximum sum subarray\n",
        "\n",
        "# Naive method:\n",
        "L = [-2,4,7,-1,6,-11,14,3,-1,-6]\n",
        "\n",
        "dict = {}\n",
        "\n",
        "for i in range(len(L)):\n",
        "  subarray = []\n",
        "  for j in range(i,len(L)):\n",
        "    subarray.append(L[j])\n",
        "    dict[sum(subarray)] = subarray[:]\n",
        "\n",
        "max_sum = max(dict.keys())\n",
        "\n",
        "print(max_sum, dict[max_sum])\n",
        "\n",
        "# kadane's rule method:\n",
        "L = [-2,4,7,-1,6,-11,14,3,-1,-6]\n",
        "\n",
        "curr_sum = 0\n",
        "best_sum = L[0]\n",
        "curr_seq = []\n",
        "best_seq = []\n",
        "\n",
        "for i in L:\n",
        "  if i + curr_sum > i:\n",
        "    curr_sum += i\n",
        "    curr_seq.append(i)\n",
        "\n",
        "  else:\n",
        "    curr_sum = i\n",
        "    curr_seq.clear()\n",
        "    curr_seq.append(i)\n",
        "\n",
        "  if curr_sum > best_sum:\n",
        "    best_sum = curr_sum\n",
        "    best_seq = curr_seq\n",
        "\n",
        "print(f\"best_sum: {best_sum} best_seq: {best_seq}\")"
      ],
      "metadata": {
        "id": "WpNblsMYjuB3"
      },
      "execution_count": null,
      "outputs": []
    },
    {
      "cell_type": "code",
      "source": [
        "# 11. Sort arrays with items 1 and 0"
      ],
      "metadata": {
        "id": "irAUJZLaVvHT"
      },
      "execution_count": null,
      "outputs": []
    },
    {
      "cell_type": "code",
      "source": [
        "# 12. Move all -ve numbers to the end"
      ],
      "metadata": {
        "id": "-Q5CGaUKVv8Q"
      },
      "execution_count": null,
      "outputs": []
    },
    {
      "cell_type": "code",
      "source": [
        "# 13. Maximum Product Subarray"
      ],
      "metadata": {
        "id": "XpBCizKNVwJU"
      },
      "execution_count": null,
      "outputs": []
    },
    {
      "cell_type": "code",
      "source": [
        "# 14. Find union of 2 arrays"
      ],
      "metadata": {
        "id": "tHBfoXeXVwT2"
      },
      "execution_count": null,
      "outputs": []
    },
    {
      "cell_type": "code",
      "source": [
        "# 15. Find Pythagorean triplets in an array"
      ],
      "metadata": {
        "id": "XJd4s11hVwdd"
      },
      "execution_count": null,
      "outputs": []
    }
  ]
}
